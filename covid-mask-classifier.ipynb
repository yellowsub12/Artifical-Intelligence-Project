{
 "cells": [
  {
   "cell_type": "code",
   "execution_count": null,
   "metadata": {
    "_cell_guid": "b1076dfc-b9ad-4769-8c92-a6c4dae69d19",
    "_uuid": "8f2839f25d086af736a60e9eeb907d3b93b6e0e5",
    "execution": {
     "iopub.execute_input": "2022-05-30T00:31:12.564803Z",
     "iopub.status.busy": "2022-05-30T00:31:12.564435Z",
     "iopub.status.idle": "2022-05-30T00:31:12.621612Z",
     "shell.execute_reply": "2022-05-30T00:31:12.619518Z",
     "shell.execute_reply.started": "2022-05-30T00:31:12.564717Z"
    }
   },
   "outputs": [],
   "source": [
    "# This Python 3 environment comes with many helpful analytics libraries installed\n",
    "# It is defined by the kaggle/python Docker image: https://github.com/kaggle/docker-python\n",
    "# For example, here's several helpful packages to load\n",
    "\n",
    "import numpy as np # linear algebra\n",
    "import pandas as pd # data processing, CSV file I/O (e.g. pd.read_csv)\n",
    "\n",
    "# Input data files are available in the read-only \"../input/\" directory\n",
    "# For example, running this (by clicking run or pressing Shift+Enter) will list all files under the input directory\n",
    "\n",
    "import os\n",
    "for dirname, _, filenames in os.walk('/kaggle/input'):\n",
    "    for filename in filenames:\n",
    "        print(os.path.join(dirname, filename))\n",
    "\n",
    "# You can write up to 20GB to the current directory (/kaggle/working/) that gets preserved as output when you create a version using \"Save & Run All\" \n",
    "# You can also write temporary files to /kaggle/temp/, but they won't be saved outside of the current session"
   ]
  },
  {
   "cell_type": "code",
   "execution_count": null,
   "metadata": {
    "execution": {
     "iopub.execute_input": "2022-05-30T00:31:12.874353Z",
     "iopub.status.busy": "2022-05-30T00:31:12.873652Z",
     "iopub.status.idle": "2022-05-30T00:31:14.75036Z",
     "shell.execute_reply": "2022-05-30T00:31:14.749365Z",
     "shell.execute_reply.started": "2022-05-30T00:31:12.874317Z"
    }
   },
   "outputs": [],
   "source": [
    "import torch\n",
    "from torch import nn"
   ]
  },
  {
   "cell_type": "code",
   "execution_count": null,
   "metadata": {
    "execution": {
     "iopub.execute_input": "2022-05-30T00:31:14.752829Z",
     "iopub.status.busy": "2022-05-30T00:31:14.752484Z",
     "iopub.status.idle": "2022-05-30T00:31:14.8271Z",
     "shell.execute_reply": "2022-05-30T00:31:14.825714Z",
     "shell.execute_reply.started": "2022-05-30T00:31:14.752782Z"
    }
   },
   "outputs": [],
   "source": [
    "# Initialize GPU\n",
    "if torch.cuda.is_available():\n",
    "    device = torch.device('cuda')\n",
    "else:\n",
    "    device = torch.device('cpu')"
   ]
  },
  {
   "cell_type": "code",
   "execution_count": null,
   "metadata": {
    "execution": {
     "iopub.execute_input": "2022-05-30T01:15:06.743536Z",
     "iopub.status.busy": "2022-05-30T01:15:06.743212Z",
     "iopub.status.idle": "2022-05-30T01:15:06.772343Z",
     "shell.execute_reply": "2022-05-30T01:15:06.771369Z",
     "shell.execute_reply.started": "2022-05-30T01:15:06.743487Z"
    }
   },
   "outputs": [],
   "source": [
    "from sklearn.metrics import mean_squared_error\n",
    "from sklearn.model_selection import train_test_split\n",
    "\n",
    "import numpy as np\n",
    "\n",
    "X = np.load('../input/sign-language-digits-dataset/X.npy',allow_pickle=True)\n",
    "y = np.load('../input/sign-language-digits-dataset/Y.npy', allow_pickle=True)"
   ]
  },
  {
   "cell_type": "code",
   "execution_count": null,
   "metadata": {
    "execution": {
     "iopub.execute_input": "2022-05-30T01:15:06.884476Z",
     "iopub.status.busy": "2022-05-30T01:15:06.884151Z",
     "iopub.status.idle": "2022-05-30T01:15:06.891577Z",
     "shell.execute_reply": "2022-05-30T01:15:06.890494Z",
     "shell.execute_reply.started": "2022-05-30T01:15:06.88444Z"
    }
   },
   "outputs": [],
   "source": [
    "y.shape"
   ]
  },
  {
   "cell_type": "code",
   "execution_count": null,
   "metadata": {
    "execution": {
     "iopub.execute_input": "2022-05-30T01:15:07.079672Z",
     "iopub.status.busy": "2022-05-30T01:15:07.078813Z",
     "iopub.status.idle": "2022-05-30T01:15:07.085161Z",
     "shell.execute_reply": "2022-05-30T01:15:07.083883Z",
     "shell.execute_reply.started": "2022-05-30T01:15:07.079634Z"
    }
   },
   "outputs": [],
   "source": [
    "y = np.argmax(y,1)"
   ]
  },
  {
   "cell_type": "code",
   "execution_count": null,
   "metadata": {
    "execution": {
     "iopub.execute_input": "2022-05-30T01:15:07.260926Z",
     "iopub.status.busy": "2022-05-30T01:15:07.260104Z",
     "iopub.status.idle": "2022-05-30T01:15:07.270372Z",
     "shell.execute_reply": "2022-05-30T01:15:07.269082Z",
     "shell.execute_reply.started": "2022-05-30T01:15:07.260887Z"
    }
   },
   "outputs": [],
   "source": [
    "y.shape"
   ]
  },
  {
   "cell_type": "code",
   "execution_count": null,
   "metadata": {
    "execution": {
     "iopub.execute_input": "2022-05-30T01:15:07.464935Z",
     "iopub.status.busy": "2022-05-30T01:15:07.46462Z",
     "iopub.status.idle": "2022-05-30T01:15:07.473674Z",
     "shell.execute_reply": "2022-05-30T01:15:07.472548Z",
     "shell.execute_reply.started": "2022-05-30T01:15:07.464903Z"
    }
   },
   "outputs": [],
   "source": [
    "print(np.unique(y, return_counts=True))"
   ]
  },
  {
   "cell_type": "code",
   "execution_count": null,
   "metadata": {
    "execution": {
     "iopub.execute_input": "2022-05-30T01:15:07.790558Z",
     "iopub.status.busy": "2022-05-30T01:15:07.789747Z",
     "iopub.status.idle": "2022-05-30T01:15:07.797856Z",
     "shell.execute_reply": "2022-05-30T01:15:07.79658Z",
     "shell.execute_reply.started": "2022-05-30T01:15:07.790488Z"
    }
   },
   "outputs": [],
   "source": [
    "print(X.shape)\n",
    "#X = np.expand_dims(X, 1)\n",
    "print(X.shape)"
   ]
  },
  {
   "cell_type": "code",
   "execution_count": null,
   "metadata": {
    "execution": {
     "iopub.execute_input": "2022-05-30T01:15:08.047689Z",
     "iopub.status.busy": "2022-05-30T01:15:08.045984Z",
     "iopub.status.idle": "2022-05-30T01:15:08.068171Z",
     "shell.execute_reply": "2022-05-30T01:15:08.067096Z",
     "shell.execute_reply.started": "2022-05-30T01:15:08.04764Z"
    }
   },
   "outputs": [],
   "source": [
    "X_train, X_test, y_train, y_test = train_test_split(X, y, test_size=0.2, random_state=42)"
   ]
  },
  {
   "cell_type": "code",
   "execution_count": null,
   "metadata": {
    "execution": {
     "iopub.execute_input": "2022-05-30T01:15:08.386708Z",
     "iopub.status.busy": "2022-05-30T01:15:08.386398Z",
     "iopub.status.idle": "2022-05-30T01:15:08.392614Z",
     "shell.execute_reply": "2022-05-30T01:15:08.391486Z",
     "shell.execute_reply.started": "2022-05-30T01:15:08.386676Z"
    }
   },
   "outputs": [],
   "source": [
    "print(y.mean())"
   ]
  },
  {
   "cell_type": "code",
   "execution_count": null,
   "metadata": {
    "execution": {
     "iopub.execute_input": "2022-05-30T01:17:36.034565Z",
     "iopub.status.busy": "2022-05-30T01:17:36.034238Z",
     "iopub.status.idle": "2022-05-30T01:17:36.048372Z",
     "shell.execute_reply": "2022-05-30T01:17:36.047326Z",
     "shell.execute_reply.started": "2022-05-30T01:17:36.03452Z"
    }
   },
   "outputs": [],
   "source": [
    "class CNNDataset(torch.utils.data.Dataset):\n",
    "    def __init__(self, X, y):\n",
    "        if not torch.is_tensor(X) and not torch.is_tensor(y):\n",
    "            self.X = torch.from_numpy(X).unsqueeze(1)\n",
    "            self.y = torch.from_numpy(y)\n",
    "            \n",
    "    def __len__(self):\n",
    "        return len(self.X)\n",
    "    \n",
    "    def __getitem__(self, i):\n",
    "        return self.X[i], self.y[i]\n",
    "      \n",
    "\n",
    "class CNN(nn.Module):\n",
    "    def __init__(self):\n",
    "        super().__init__()\n",
    "        self.layers = nn.Sequential(\n",
    "            nn.Conv2d(1,24, kernel_size=3,padding=1),\n",
    "            nn.BatchNorm2d(24),\n",
    "            nn.ReLU(),\n",
    "            nn.MaxPool2d(2),\n",
    "            nn.Dropout(p=0.2),\n",
    "            \n",
    "            nn.Conv2d(24,48,kernel_size=3,padding=1),\n",
    "            nn.BatchNorm2d(48),\n",
    "            nn.ReLU(),\n",
    "            nn.MaxPool2d(2),\n",
    "            nn.Dropout(p=0.2),\n",
    "\n",
    "            nn.Flatten(),\n",
    "            nn.Linear(12288, 1024),\n",
    "            nn.BatchNorm1d(1024),\n",
    "            nn.Dropout(p=0.2),\n",
    "            nn.ReLU(),\n",
    "            \n",
    "            nn.Linear(1024, 1024),\n",
    "            nn.BatchNorm1d(1024),\n",
    "            nn.Dropout(p=0.2),\n",
    "            nn.ReLU(),\n",
    "            \n",
    "            nn.Linear(1024, 10),\n",
    "            nn.Softmax(dim=1)\n",
    "        )\n",
    "    def forward(self, x):\n",
    "        return self.layers(x)"
   ]
  },
  {
   "cell_type": "code",
   "execution_count": null,
   "metadata": {
    "execution": {
     "iopub.execute_input": "2022-05-30T01:17:36.712594Z",
     "iopub.status.busy": "2022-05-30T01:17:36.71172Z",
     "iopub.status.idle": "2022-05-30T01:17:45.893826Z",
     "shell.execute_reply": "2022-05-30T01:17:45.892545Z",
     "shell.execute_reply.started": "2022-05-30T01:17:36.712537Z"
    }
   },
   "outputs": [],
   "source": [
    "!pip install torchsummary"
   ]
  },
  {
   "cell_type": "code",
   "execution_count": null,
   "metadata": {
    "execution": {
     "iopub.execute_input": "2022-05-30T01:17:45.910884Z",
     "iopub.status.busy": "2022-05-30T01:17:45.904481Z",
     "iopub.status.idle": "2022-05-30T01:17:46.248351Z",
     "shell.execute_reply": "2022-05-30T01:17:46.247065Z",
     "shell.execute_reply.started": "2022-05-30T01:17:45.910834Z"
    }
   },
   "outputs": [],
   "source": [
    "from torchsummary import summary\n",
    "cnn = CNN()\n",
    "summary(cnn.to(device),(1,64,64))"
   ]
  },
  {
   "cell_type": "code",
   "execution_count": null,
   "metadata": {
    "execution": {
     "iopub.execute_input": "2022-05-30T01:21:50.999281Z",
     "iopub.status.busy": "2022-05-30T01:21:50.999003Z",
     "iopub.status.idle": "2022-05-30T01:22:34.052961Z",
     "shell.execute_reply": "2022-05-30T01:22:34.05188Z",
     "shell.execute_reply.started": "2022-05-30T01:21:50.99925Z"
    }
   },
   "outputs": [],
   "source": [
    "torch.manual_seed(42)\n",
    "\n",
    "train_losses = []\n",
    "\n",
    "dataset = CNNDataset(X_train, y_train)\n",
    "trainloader = torch.utils.data.DataLoader(dataset, batch_size=256, shuffle=True)\n",
    "\n",
    "cnn = CNN().to(device)\n",
    "\n",
    "loss_func = nn.CrossEntropyLoss()\n",
    "\n",
    "optimizer = torch.optim.Adam(cnn.parameters(), lr=3*1e-6)\n",
    "\n",
    "total_train_loss = 0\n",
    "loss_count = 0\n",
    "\n",
    "for epoch in range(0, 200):\n",
    "    current_loss = 0.0\n",
    "\n",
    "    for i, data in enumerate(trainloader, 0):\n",
    "        inputs, targets = data\n",
    "        inputs, targets = inputs.to(device), targets.to(device)\n",
    "        \n",
    "        #print(targets)\n",
    "        #print(inputs)\n",
    "\n",
    "        #targets = targets.reshape((*targets.shape, 1))\n",
    "\n",
    "        optimizer.zero_grad()\n",
    "\n",
    "        outputs = cnn(inputs)\n",
    "\n",
    "        loss = loss_func(outputs, targets)\n",
    "\n",
    "        loss.backward()\n",
    "\n",
    "        optimizer.step()\n",
    "\n",
    "        current_loss += loss.item()\n",
    "        total_train_loss += loss.item()\n",
    "        loss_count += 1\n",
    "        \n",
    "        if (i+1) % 10 == 0:\n",
    "            current_loss = 0.0\n",
    "            \n",
    "    print(f'Train loss (Crossentropy), epoch {epoch+1}: {total_train_loss/loss_count}')\n",
    "    train_losses.append(total_train_loss/loss_count)\n",
    "    loss_list.append(total_train_loss/loss_count)\n",
    "    loss_count = 0\n",
    "    total_train_loss = 0\n",
    "\n",
    "print('Training process has finished.')"
   ]
  },
  {
   "cell_type": "code",
   "execution_count": null,
   "metadata": {
    "execution": {
     "iopub.execute_input": "2022-05-30T01:24:22.46306Z",
     "iopub.status.busy": "2022-05-30T01:24:22.462714Z",
     "iopub.status.idle": "2022-05-30T01:24:22.726457Z",
     "shell.execute_reply": "2022-05-30T01:24:22.725393Z",
     "shell.execute_reply.started": "2022-05-30T01:24:22.463028Z"
    }
   },
   "outputs": [],
   "source": [
    "import matplotlib.pyplot as plt\n",
    "plt.plot(train_losses)\n",
    "plt.title(\"CNN training loss\")\n",
    "plt.xlabel(\"Epoch\")\n",
    "plt.ylabel(\"Categorical crossentropy Loss\")\n",
    "plt.show()"
   ]
  },
  {
   "cell_type": "code",
   "execution_count": null,
   "metadata": {
    "execution": {
     "iopub.execute_input": "2022-05-30T01:27:07.645545Z",
     "iopub.status.busy": "2022-05-30T01:27:07.645136Z",
     "iopub.status.idle": "2022-05-30T01:27:07.683697Z",
     "shell.execute_reply": "2022-05-30T01:27:07.682588Z",
     "shell.execute_reply.started": "2022-05-30T01:27:07.645484Z"
    }
   },
   "outputs": [],
   "source": [
    "# Compute test loss of the model\n",
    "dataset_test = CNNDataset(X_test, y_test)\n",
    "testloader = torch.utils.data.DataLoader(dataset_test, batch_size=256, shuffle=True)\n",
    "\n",
    "total_test_loss = 0\n",
    "loss_count = 0\n",
    "\n",
    "# Define the loss function\n",
    "loss_function = nn.CrossEntropyLoss()\n",
    "\n",
    "# Run the test loop\n",
    "cnn.eval()\n",
    "\n",
    "# Iterate over the DataLoader for training data\n",
    "for i, data in enumerate(testloader, 0):\n",
    "    # Get and prepare inputs\n",
    "    inputs, targets = data\n",
    "    inputs, targets = inputs.to(device), targets.to(device)\n",
    "\n",
    "    targets = targets.reshape((targets.shape[0], 1))\n",
    "\n",
    "    # Perform forward pass\n",
    "    with torch.no_grad():\n",
    "        outputs = cnn(inputs)\n",
    "\n",
    "    # Compute loss\n",
    "    loss = loss_function(outputs, targets)\n",
    "\n",
    "    total_test_loss += loss.item()\n",
    "    loss_count += 1\n",
    "\n",
    "print(f'Test loss (CE): {total_test_loss/loss_count}')"
   ]
  },
  {
   "cell_type": "code",
   "execution_count": null,
   "metadata": {},
   "outputs": [],
   "source": []
  },
  {
   "cell_type": "code",
   "execution_count": null,
   "metadata": {},
   "outputs": [],
   "source": []
  },
  {
   "cell_type": "code",
   "execution_count": null,
   "metadata": {},
   "outputs": [],
   "source": []
  }
 ],
 "metadata": {
  "kernelspec": {
   "display_name": "Python 3",
   "language": "python",
   "name": "python3"
  },
  "language_info": {
   "codemirror_mode": {
    "name": "ipython",
    "version": 3
   },
   "file_extension": ".py",
   "mimetype": "text/x-python",
   "name": "python",
   "nbconvert_exporter": "python",
   "pygments_lexer": "ipython3",
   "version": "3.6.13"
  }
 },
 "nbformat": 4,
 "nbformat_minor": 4
}
