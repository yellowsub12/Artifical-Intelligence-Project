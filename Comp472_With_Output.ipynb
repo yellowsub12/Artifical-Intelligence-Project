{
 "cells": [
  {
   "cell_type": "code",
   "execution_count": 1,
   "id": "89407e91",
   "metadata": {},
   "outputs": [],
   "source": [
    "import torch\n",
    "import torchvision\n",
    "import torchvision.transforms as transforms\n",
    "from PIL import Image\n",
    "import os\n",
    "      \n"
   ]
  },
  {
   "cell_type": "code",
   "execution_count": 2,
   "id": "7fb4b26d",
   "metadata": {},
   "outputs": [
    {
     "name": "stdout",
     "output_type": "stream",
     "text": [
      "33\n",
      "11\n"
     ]
    }
   ],
   "source": [
    "input_size = 3072\n",
    "D_in = input_size\n",
    "H = 50\n",
    "D_out = 10\n",
    "num_epochs = 30\n",
    "transformation = transforms.Compose( [transforms.Resize((32,32)), \n",
    "                                          transforms.ToTensor(),\n",
    "                                          transforms.Normalize(mean=[0.5, 0.5, 0.5],\n",
    "                                          std=[0.5, 0.5, 0.5])])\n",
    "training_set = torchvision.datasets.ImageFolder('/Users/jgold/Documents/GitHub/Artifical-Intelligence-Project/Training', \n",
    "                                                transform=transformation)\n",
    "                                                \n",
    "train_loader = torch.utils.data.DataLoader(training_set, batch_size=100, shuffle=True, num_workers=2)\n",
    "testing_set = torchvision.datasets.ImageFolder('/Users/jgold/Documents/GitHub/Artifical-Intelligence-Project/Testing', transform=transformation)\n",
    "test_loader = torch.utils.data.DataLoader(testing_set, batch_size=100, shuffle=True, num_workers=2)\n",
    "\n",
    "print(len(train_loader))\n",
    "print(len(test_loader))"
   ]
  },
  {
   "cell_type": "code",
   "execution_count": 3,
   "id": "875c1b88",
   "metadata": {},
   "outputs": [],
   "source": [
    "import torch.nn as nn\n",
    "import torch.nn.functional as F\n",
    "import torch.utils.data as td\n",
    "\n",
    "class MultiLayerFCNet(nn.Module):\n",
    "    def __init__(self, D_in, H, D_out):\n",
    "        super(MultiLayerFCNet, self).__init__()\n",
    "        self.linear1 = torch.nn.Linear(D_in, H)\n",
    "        self.linear2 = torch.nn.Linear(H, H)\n",
    "        self.linear3 = torch.nn.Linear(H, H)\n",
    "        self.linear4 = torch.nn.Linear(H, D_out)\n",
    "    def forward(self, x):\n",
    "        x = F.relu(self.linear1(x))\n",
    "        x = F.relu(self.linear2(x))\n",
    "        x = F.relu(self.linear3(x))\n",
    "        x = self.linear4(x)\n",
    "        return F.log_softmax(x,dim=1)\n"
   ]
  },
  {
   "cell_type": "code",
   "execution_count": 4,
   "id": "aab335fa",
   "metadata": {},
   "outputs": [],
   "source": [
    "model = MultiLayerFCNet(D_in, H, D_out)\n",
    "criterion = torch.nn.CrossEntropyLoss()\n",
    "optimizer = torch.optim.SGD(model.parameters(), lr=0.01, momentum=0.9)"
   ]
  },
  {
   "cell_type": "code",
   "execution_count": 5,
   "id": "70f2bea9",
   "metadata": {},
   "outputs": [
    {
     "name": "stdout",
     "output_type": "stream",
     "text": [
      "Epoch [1/30], Averge Loss:for epoch[1, 1.9400]\n",
      "Epoch [2/30], Averge Loss:for epoch[2, 1.2361]\n",
      "Epoch [3/30], Averge Loss:for epoch[3, 0.9805]\n",
      "Epoch [4/30], Averge Loss:for epoch[4, 0.8878]\n",
      "Epoch [5/30], Averge Loss:for epoch[5, 0.8389]\n",
      "Epoch [6/30], Averge Loss:for epoch[6, 0.7893]\n",
      "Epoch [7/30], Averge Loss:for epoch[7, 0.7480]\n",
      "Epoch [8/30], Averge Loss:for epoch[8, 0.7182]\n",
      "Epoch [9/30], Averge Loss:for epoch[9, 0.6859]\n",
      "Epoch [10/30], Averge Loss:for epoch[10, 0.6626]\n",
      "Epoch [11/30], Averge Loss:for epoch[11, 0.6165]\n",
      "Epoch [12/30], Averge Loss:for epoch[12, 0.5705]\n",
      "Epoch [13/30], Averge Loss:for epoch[13, 0.5387]\n",
      "Epoch [14/30], Averge Loss:for epoch[14, 0.5315]\n",
      "Epoch [15/30], Averge Loss:for epoch[15, 0.5035]\n",
      "Epoch [16/30], Averge Loss:for epoch[16, 0.4904]\n",
      "Epoch [17/30], Averge Loss:for epoch[17, 0.4314]\n",
      "Epoch [18/30], Averge Loss:for epoch[18, 0.4295]\n",
      "Epoch [19/30], Averge Loss:for epoch[19, 0.3730]\n",
      "Epoch [20/30], Averge Loss:for epoch[20, 0.3418]\n",
      "Epoch [21/30], Averge Loss:for epoch[21, 0.3413]\n",
      "Epoch [22/30], Averge Loss:for epoch[22, 0.3276]\n",
      "Epoch [23/30], Averge Loss:for epoch[23, 0.3224]\n",
      "Epoch [24/30], Averge Loss:for epoch[24, 0.3726]\n",
      "Epoch [25/30], Averge Loss:for epoch[25, 0.2637]\n",
      "Epoch [26/30], Averge Loss:for epoch[26, 0.2284]\n",
      "Epoch [27/30], Averge Loss:for epoch[27, 0.2250]\n",
      "Epoch [28/30], Averge Loss:for epoch[28, 0.2842]\n",
      "Epoch [29/30], Averge Loss:for epoch[29, 0.2108]\n",
      "Epoch [30/30], Averge Loss:for epoch[30, 0.1844]\n"
     ]
    }
   ],
   "source": [
    "for epoch in range(num_epochs):\n",
    "    avg_loss_epoch = 0\n",
    "    batch_loss = 0\n",
    "    total_batches = 0\n",
    "    for i, (images, labels) in enumerate(train_loader):\n",
    "        images = images.reshape(-1, 32 * 32 * 3)\n",
    "        outputs = model(images)\n",
    "        loss = criterion(outputs, labels)\n",
    "        optimizer.zero_grad()\n",
    "        loss.backward()\n",
    "        optimizer.step()\n",
    "        total_batches += 1\n",
    "        batch_loss += loss.item()\n",
    "        avg_loss_epoch = batch_loss / total_batches\n",
    "    print('Epoch [{}/{}], Averge Loss:for epoch[{}, {:.4f}]'\n",
    "    .format(epoch + 1, num_epochs, epoch + 1, avg_loss_epoch))"
   ]
  },
  {
   "cell_type": "code",
   "execution_count": 6,
   "id": "5662ce58",
   "metadata": {},
   "outputs": [
    {
     "name": "stdout",
     "output_type": "stream",
     "text": [
      "Accuracy of the network on the 1000 test images: 60 %\n",
      "Accuracy of the network on the 1000 test images: 56 %\n",
      "Accuracy of the network on the 1000 test images: 58 %\n",
      "Accuracy of the network on the 1000 test images: 57 %\n",
      "Accuracy of the network on the 1000 test images: 56 %\n",
      "Accuracy of the network on the 1000 test images: 56 %\n",
      "Accuracy of the network on the 1000 test images: 55 %\n",
      "Accuracy of the network on the 1000 test images: 55 %\n",
      "Accuracy of the network on the 1000 test images: 56 %\n",
      "Accuracy of the network on the 1000 test images: 56 %\n",
      "Accuracy of the network on the 1000 test images: 57 %\n"
     ]
    }
   ],
   "source": [
    "#testing before training just to see\n",
    "correct = 0\n",
    "total = 0\n",
    "for images, labels in test_loader:\n",
    "    images = images.reshape(-1, 3 * 32 * 32)\n",
    "    outputs_test = model(images)\n",
    "    _, predicted = torch.max(outputs_test.data, 1)\n",
    "    total += labels.size(0)\n",
    "    correct += (predicted == labels).sum().item()\n",
    "    print('Accuracy of the network on the 1000 test images: %d %%'\n",
    "    % (100 * correct / total))\n"
   ]
  },
  {
   "cell_type": "code",
   "execution_count": 7,
   "id": "d330d2e1",
   "metadata": {},
   "outputs": [],
   "source": [
    "#building neural network\n",
    "class CNN(nn.Module):\n",
    "    def __init__(self):\n",
    "        super(CNN, self).__init__()\n",
    "        self.conv_layer = nn.Sequential(\n",
    "        nn.Conv2d(in_channels=3, out_channels=32, kernel_size=3, padding=1),\n",
    "        nn.BatchNorm2d(32),\n",
    "        nn.LeakyReLU(inplace=True),\n",
    "        nn.Conv2d(in_channels=32, out_channels=32, kernel_size=3, padding=1),\n",
    "        nn.BatchNorm2d(32),\n",
    "        nn.LeakyReLU(inplace=True),\n",
    "        nn.MaxPool2d(kernel_size=2, stride=2),\n",
    "        nn.Conv2d(in_channels=32, out_channels=64, kernel_size=3, padding=1),\n",
    "        nn.BatchNorm2d(64),\n",
    "        nn.LeakyReLU(inplace=True),\n",
    "        nn.Conv2d(in_channels=64, out_channels=64, kernel_size=3, padding=1),\n",
    "        nn.BatchNorm2d(64),\n",
    "        nn.LeakyReLU(inplace=True),\n",
    "        nn.MaxPool2d(kernel_size=2, stride=2),\n",
    "    )\n",
    "        self.fc_layer = nn.Sequential(\n",
    "        nn.Dropout(p=0.1),\n",
    "        nn.Linear(8 * 8 * 64, 1000),\n",
    "        nn.ReLU(inplace=True),\n",
    "        nn.Linear(1000, 512),\n",
    "        nn.ReLU(inplace=True),\n",
    "        nn.Dropout(p=0.1),\n",
    "        nn.Linear(512, 10)\n",
    "    )\n",
    "    def forward(self, x):\n",
    "        # conv layers\n",
    "        x = self.conv_layer(x)\n",
    "        # flatten\n",
    "        x = x.view(x.size(0), -1)\n",
    "        # fc layer\n",
    "        x = self.fc_layer(x)\n",
    "        return x\n"
   ]
  },
  {
   "cell_type": "code",
   "execution_count": 8,
   "id": "740cefa4",
   "metadata": {},
   "outputs": [],
   "source": [
    "num_epochs = 30\n",
    "num_classes = 4\n",
    "learning_rate = 0.001\n"
   ]
  },
  {
   "cell_type": "code",
   "execution_count": 9,
   "id": "5ddfeea9",
   "metadata": {},
   "outputs": [],
   "source": [
    "#initializing CNN\n",
    "model = CNN()\n",
    "criterion = nn.CrossEntropyLoss()\n",
    "optimizer = torch.optim.Adam(model.parameters(), lr=learning_rate)"
   ]
  },
  {
   "cell_type": "code",
   "execution_count": 10,
   "id": "c234cbcb",
   "metadata": {},
   "outputs": [
    {
     "name": "stdout",
     "output_type": "stream",
     "text": [
      "Epoch [1/30], Step [33/33], Loss: 0.9144, Accuracy: 60.26%\n",
      "Epoch [2/30], Step [33/33], Loss: 0.9062, Accuracy: 58.97%\n",
      "Epoch [3/30], Step [33/33], Loss: 0.7330, Accuracy: 78.21%\n",
      "Epoch [4/30], Step [33/33], Loss: 0.5403, Accuracy: 82.05%\n",
      "Epoch [5/30], Step [33/33], Loss: 0.4627, Accuracy: 82.05%\n",
      "Epoch [6/30], Step [33/33], Loss: 0.5758, Accuracy: 79.49%\n",
      "Epoch [7/30], Step [33/33], Loss: 0.5317, Accuracy: 78.21%\n",
      "Epoch [8/30], Step [33/33], Loss: 0.4283, Accuracy: 82.05%\n",
      "Epoch [9/30], Step [33/33], Loss: 0.3584, Accuracy: 84.62%\n",
      "Epoch [10/30], Step [33/33], Loss: 0.2672, Accuracy: 91.03%\n",
      "Epoch [11/30], Step [33/33], Loss: 0.2151, Accuracy: 94.87%\n",
      "Epoch [12/30], Step [33/33], Loss: 0.2670, Accuracy: 89.74%\n",
      "Epoch [13/30], Step [33/33], Loss: 0.2536, Accuracy: 89.74%\n",
      "Epoch [14/30], Step [33/33], Loss: 0.1458, Accuracy: 92.31%\n",
      "Epoch [15/30], Step [33/33], Loss: 0.1592, Accuracy: 92.31%\n",
      "Epoch [16/30], Step [33/33], Loss: 0.0952, Accuracy: 97.44%\n",
      "Epoch [17/30], Step [33/33], Loss: 0.0459, Accuracy: 98.72%\n",
      "Epoch [18/30], Step [33/33], Loss: 0.0615, Accuracy: 96.15%\n",
      "Epoch [19/30], Step [33/33], Loss: 0.0861, Accuracy: 97.44%\n",
      "Epoch [20/30], Step [33/33], Loss: 0.0259, Accuracy: 98.72%\n",
      "Epoch [21/30], Step [33/33], Loss: 0.0240, Accuracy: 100.00%\n",
      "Epoch [22/30], Step [33/33], Loss: 0.0517, Accuracy: 98.72%\n",
      "Epoch [23/30], Step [33/33], Loss: 0.0397, Accuracy: 98.72%\n",
      "Epoch [24/30], Step [33/33], Loss: 0.0100, Accuracy: 100.00%\n",
      "Epoch [25/30], Step [33/33], Loss: 0.0089, Accuracy: 100.00%\n",
      "Epoch [26/30], Step [33/33], Loss: 0.0365, Accuracy: 98.72%\n",
      "Epoch [27/30], Step [33/33], Loss: 0.0585, Accuracy: 97.44%\n",
      "Epoch [28/30], Step [33/33], Loss: 0.0195, Accuracy: 98.72%\n",
      "Epoch [29/30], Step [33/33], Loss: 0.0920, Accuracy: 97.44%\n",
      "Epoch [30/30], Step [33/33], Loss: 0.0045, Accuracy: 100.00%\n"
     ]
    }
   ],
   "source": [
    "#training the model\n",
    "total_step = len(train_loader)\n",
    "loss_list = []\n",
    "acc_list = []\n",
    "for epoch in range(num_epochs):\n",
    "    for i, (images, labels) in enumerate(train_loader):\n",
    "        # Forward pass\n",
    "        outputs = model(images)\n",
    "        loss = criterion(outputs, labels)\n",
    "        loss_list.append(loss.item())\n",
    "        # Backprop and optimisation\n",
    "        optimizer.zero_grad()\n",
    "        loss.backward()\n",
    "        optimizer.step()\n",
    "        # Train accuracy\n",
    "        total = labels.size(0)\n",
    "        _, predicted = torch.max(outputs.data, 1)\n",
    "        correct = (predicted == labels).sum().item()\n",
    "        acc_list.append(correct / total)\n",
    "    print('Epoch [{}/{}], Step [{}/{}], Loss: {:.4f}, Accuracy: {:.2f}%'\n",
    "        .format(epoch + 1, num_epochs, i + 1, total_step, loss.item(),\n",
    "        (correct / total) * 100))"
   ]
  },
  {
   "cell_type": "code",
   "execution_count": 11,
   "id": "abc6ce25",
   "metadata": {},
   "outputs": [
    {
     "name": "stdout",
     "output_type": "stream",
     "text": [
      "Test Accuracy of the model on the 1000 test images: 66.0 %\n",
      "Test Accuracy of the model on the 1000 test images: 67.0 %\n",
      "Test Accuracy of the model on the 1000 test images: 68.66666666666667 %\n",
      "Test Accuracy of the model on the 1000 test images: 67.0 %\n",
      "Test Accuracy of the model on the 1000 test images: 68.60000000000001 %\n",
      "Test Accuracy of the model on the 1000 test images: 70.33333333333334 %\n",
      "Test Accuracy of the model on the 1000 test images: 69.57142857142857 %\n",
      "Test Accuracy of the model on the 1000 test images: 69.75 %\n",
      "Test Accuracy of the model on the 1000 test images: 69.66666666666667 %\n",
      "Test Accuracy of the model on the 1000 test images: 69.3 %\n",
      "Test Accuracy of the model on the 1000 test images: 69.26782273603082 %\n"
     ]
    }
   ],
   "source": [
    "#testing the model after it has beeen trained\n",
    "model.eval()\n",
    "with torch.no_grad():\n",
    "    correct = 0\n",
    "    total = 0\n",
    "    for images, labels in test_loader:\n",
    "        outputs = model(images)\n",
    "        _, predicted = torch.max(outputs.data, 1)\n",
    "        total += labels.size(0)\n",
    "        correct += (predicted == labels).sum().item()\n",
    "        print('Test Accuracy of the model on the 1000 test images: {} %'\n",
    "          .format((correct / total) * 100))"
   ]
  },
  {
   "cell_type": "code",
   "execution_count": 12,
   "id": "97cb7e81",
   "metadata": {},
   "outputs": [
    {
     "data": {
      "image/png": "[encoded data removed]",
      "text/plain": [
       "<Figure size 432x288 with 2 Axes>"
      ]
     },
     "metadata": {
      "needs_background": "light"
     },
     "output_type": "display_data"
    },
    {
     "name": "stdout",
     "output_type": "stream",
     "text": [
      "              precision    recall  f1-score   support\n",
      "\n",
      "           0       0.99      1.00      1.00       526\n",
      "           1       0.99      1.00      1.00      1015\n",
      "           2       1.00      1.00      1.00       857\n",
      "           3       1.00      0.99      0.99       880\n",
      "\n",
      "    accuracy                           1.00      3278\n",
      "   macro avg       1.00      1.00      1.00      3278\n",
      "weighted avg       1.00      1.00      1.00      3278\n",
      "\n"
     ]
    }
   ],
   "source": [
    "import matplotlib.pyplot as plt\n",
    "import numpy as np\n",
    "from sklearn.metrics import plot_confusion_matrix\n",
    "from sklearn.metrics import confusion_matrix\n",
    "from sklearn.metrics import classification_report\n",
    "import seaborn as sns\n",
    "\n",
    "#building Confusion Matrix as well as getting accuracy, predictions and F1 score for train model\n",
    "model.eval()\n",
    "prediction_list = []\n",
    "accurate_list = []\n",
    "with torch.no_grad():\n",
    "    for images, labels in train_loader:\n",
    "        outputs = model(images)\n",
    "        _, predicted = torch.max(model(images), 1)\n",
    "        prediction_list.extend(predicted.detach().cpu().numpy())\n",
    "        accurate_list.extend(labels.detach().cpu().numpy())\n",
    "  \n",
    "  \n",
    "confusion_matrix_data = confusion_matrix(accurate_list, prediction_list)\n",
    "confusionMatrix = sns.heatmap(confusion_matrix_data, annot=True, fmt='g' )\n",
    "confusionMatrix.set_title('Confusion Matrix');\n",
    "confusionMatrix.set_xlabel('Predicted Categories')\n",
    "confusionMatrix.set_ylabel('Actual Categories');\n",
    "confusionMatrix.xaxis.set_ticklabels(['Cloth Mask','N95','No Mask','Surgical Mask'])\n",
    "confusionMatrix.yaxis.set_ticklabels(['Cloth Mask','N95','No Mask','Surgical Mask'])\n",
    "\n",
    "  \n",
    "plt.show()\n",
    "\n",
    "#printing Accuracy, Prediction and F1 score for training model\n",
    "print(classification_report(prediction_list, accurate_list))"
   ]
  },
  {
   "cell_type": "code",
   "execution_count": 13,
   "id": "2e7f1935",
   "metadata": {},
   "outputs": [
    {
     "data": {
      "image/png": "[encoded data removed]",
      "text/plain": [
       "<Figure size 432x288 with 2 Axes>"
      ]
     },
     "metadata": {
      "needs_background": "light"
     },
     "output_type": "display_data"
    },
    {
     "name": "stdout",
     "output_type": "stream",
     "text": [
      "              precision    recall  f1-score   support\n",
      "\n",
      "           0       0.53      0.48      0.51       174\n",
      "           1       0.66      0.77      0.71       357\n",
      "           2       0.93      0.87      0.90       163\n",
      "           3       0.70      0.63      0.66       344\n",
      "\n",
      "    accuracy                           0.69      1038\n",
      "   macro avg       0.71      0.69      0.70      1038\n",
      "weighted avg       0.69      0.69      0.69      1038\n",
      "\n"
     ]
    }
   ],
   "source": [
    "#building Confusion Matrix as well as getting accuracy, predictions and F1 score for test model\n",
    "model.eval()\n",
    "prediction_list = []\n",
    "accurate_list = []\n",
    "with torch.no_grad():\n",
    "    for images, labels in test_loader:\n",
    "        outputs = model(images)\n",
    "        _, predicted = torch.max(model(images), 1)\n",
    "        prediction_list.extend(predicted.detach().cpu().numpy())\n",
    "        accurate_list.extend(labels.detach().cpu().numpy())\n",
    "  \n",
    "  \n",
    "confusion_matrix_data = confusion_matrix(accurate_list, prediction_list)\n",
    "confusionMatrix = sns.heatmap(confusion_matrix_data, annot=True, fmt='g' )\n",
    "confusionMatrix.set_title('Confusion Matrix');\n",
    "confusionMatrix.set_xlabel('Predicted Categories')\n",
    "confusionMatrix.set_ylabel('Actual Categories');\n",
    "confusionMatrix.xaxis.set_ticklabels(['Cloth Mask','N95','No Mask','Surgical Mask'])\n",
    "confusionMatrix.yaxis.set_ticklabels(['Cloth Mask','N95','No Mask','Surgical Mask'])\n",
    "\n",
    "  \n",
    "plt.show()\n",
    "\n",
    "#printing Accuracy, Prediction and F1 score for testing model\n",
    "print(classification_report(prediction_list, accurate_list))"
   ]
  },
  {
   "cell_type": "code",
   "execution_count": 25,
   "id": "2e72777f",
   "metadata": {},
   "outputs": [],
   "source": [
    "path = r\"/Users/jgold/Documents/GitHub/Artifical-Intelligence-Project/Models/Model1.pt\"\n",
    "a_file = open('/Users/jgold/Documents/GitHub/Artifical-Intelligence-Project/Models/Model1.txt', encoding='utf-8')\n",
    "\n",
    "torch.save(model.state_dict(), path)\n"
   ]
  },
  {
   "cell_type": "code",
   "execution_count": null,
   "id": "964a6dba",
   "metadata": {},
   "outputs": [],
   "source": []
  }
 ],
 "metadata": {
  "kernelspec": {
   "display_name": "Python 3",
   "language": "python",
   "name": "python3"
  },
  "language_info": {
   "codemirror_mode": {
    "name": "ipython",
    "version": 3
   },
   "file_extension": ".py",
   "mimetype": "text/x-python",
   "name": "python",
   "nbconvert_exporter": "python",
   "pygments_lexer": "ipython3",
   "version": "3.8.8"
  }
 },
 "nbformat": 4,
 "nbformat_minor": 5
}
