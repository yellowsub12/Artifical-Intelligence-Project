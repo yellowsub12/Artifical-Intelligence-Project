{
 "cells": [
  {
   "cell_type": "code",
   "execution_count": 7,
   "id": "89407e91",
   "metadata": {},
   "outputs": [],
   "source": [
    "import torch\n",
    "import torchvision\n",
    "import torchvision.transforms as transforms\n",
    "import torch \n",
    "from torch.utils.data import Dataset, Subset\n",
    "from torch.utils.data import random_split\n",
    "from PIL import Image\n",
    "import os\n",
    "import numpy as np\n",
    "save_dir = '/Users/Jed/Music/Artifical-Intelligence-Project-main/Artifical-Intelligence-Project-main/Artifical-Intelligence-Project/Dataset'"
   ]
  },
  {
   "cell_type": "code",
   "execution_count": 8,
   "id": "7fb4b26d",
   "metadata": {},
   "outputs": [],
   "source": [
    "transformation = transforms.Compose( [transforms.Resize((32,32)), \n",
    "                                          transforms.ToTensor(),\n",
    "                                          transforms.Normalize(mean=[0.5, 0.5, 0.5],\n",
    "                                          std=[0.5, 0.5, 0.5])])\n",
    "\n",
    "#change average sizes\n",
    "#grabbing dataset\n",
    "dataset = torchvision.datasets.ImageFolder('/Users/Jed/Music/Artifical-Intelligence-Project-main/Artifical-Intelligence-Project-main/Artifical-Intelligence-Project/Dataset', \n",
    "                                                transform=transformation)\n",
    "\n",
    "#randomly splitting for training and testing\n",
    "training_set, testing_set = random_split(dataset, [1865, 620])\n",
    "\n",
    "\n",
    "                                                \n",
    "train_loader = torch.utils.data.DataLoader(training_set, batch_size=100, shuffle=True, num_workers=2)\n",
    "test_loader = torch.utils.data.DataLoader(testing_set, batch_size=100, shuffle=True, num_workers=2)\n"
   ]
  },
  {
   "cell_type": "code",
   "execution_count": 9,
   "id": "d330d2e1",
   "metadata": {},
   "outputs": [],
   "source": [
    "import torch.nn as nn\n",
    "import torch.nn.functional as F\n",
    "import torch.utils.data as td\n",
    "\n",
    "\n",
    "#building neural network\n",
    "class CNN(nn.Module):\n",
    "    def __init__(self):\n",
    "        super(CNN, self).__init__()\n",
    "        self.conv_layer = nn.Sequential(\n",
    "        nn.Conv2d(in_channels=3, out_channels=32, kernel_size=3, padding=1),\n",
    "        nn.BatchNorm2d(32),\n",
    "        nn.LeakyReLU(inplace=True),\n",
    "        nn.Conv2d(in_channels=32, out_channels=32, kernel_size=3, padding=1),\n",
    "        nn.BatchNorm2d(32),\n",
    "        nn.LeakyReLU(inplace=True),\n",
    "        nn.MaxPool2d(kernel_size=2, stride=2),\n",
    "        nn.Conv2d(in_channels=32, out_channels=64, kernel_size=3, padding=1),\n",
    "        nn.BatchNorm2d(64),\n",
    "        nn.LeakyReLU(inplace=True),\n",
    "        nn.Conv2d(in_channels=64, out_channels=64, kernel_size=3, padding=1),\n",
    "        nn.BatchNorm2d(64),\n",
    "        nn.LeakyReLU(inplace=True),\n",
    "        nn.MaxPool2d(kernel_size=2, stride=2),\n",
    "    )\n",
    "        self.fc_layer = nn.Sequential(\n",
    "        nn.Dropout(p=0.1),\n",
    "        nn.Linear(8 * 8 * 64, 1000),\n",
    "        nn.ReLU(inplace=True),\n",
    "        nn.Linear(1000, 512),\n",
    "        nn.ReLU(inplace=True),\n",
    "        nn.Dropout(p=0.1),\n",
    "        nn.Linear(512, 10)\n",
    "    )\n",
    "    def forward(self, x):\n",
    "        # conv layers\n",
    "        x = self.conv_layer(x)\n",
    "        # flatten\n",
    "        x = x.view(x.size(0), -1)\n",
    "        # fc layer\n",
    "        x = self.fc_layer(x)\n",
    "        return x\n"
   ]
  },
  {
   "cell_type": "code",
   "execution_count": 10,
   "id": "740cefa4",
   "metadata": {},
   "outputs": [],
   "source": [
    "num_epochs = 20\n",
    "num_classes = 4\n",
    "learning_rate = 0.001\n"
   ]
  },
  {
   "cell_type": "code",
   "execution_count": 11,
   "id": "5ddfeea9",
   "metadata": {},
   "outputs": [],
   "source": [
    "#initializing CNN\n",
    "model = CNN()\n",
    "criterion = nn.CrossEntropyLoss()\n",
    "optimizer = torch.optim.Adam(model.parameters(), lr=learning_rate)"
   ]
  },
  {
   "cell_type": "code",
   "execution_count": 12,
   "id": "c234cbcb",
   "metadata": {},
   "outputs": [
    {
     "name": "stdout",
     "output_type": "stream",
     "text": [
      "Epoch [1/20], Step [19/19], Loss: 0.9502, Accuracy: 47.69%\n",
      "Epoch [2/20], Step [19/19], Loss: 0.8896, Accuracy: 49.23%\n",
      "Epoch [3/20], Step [19/19], Loss: 0.8282, Accuracy: 69.23%\n",
      "Epoch [4/20], Step [19/19], Loss: 0.6321, Accuracy: 76.92%\n",
      "Epoch [5/20], Step [19/19], Loss: 0.6497, Accuracy: 76.92%\n",
      "Epoch [6/20], Step [19/19], Loss: 0.6332, Accuracy: 72.31%\n",
      "Epoch [7/20], Step [19/19], Loss: 0.4588, Accuracy: 81.54%\n",
      "Epoch [8/20], Step [19/19], Loss: 0.4874, Accuracy: 83.08%\n",
      "Epoch [9/20], Step [19/19], Loss: 0.5584, Accuracy: 76.92%\n",
      "Epoch [10/20], Step [19/19], Loss: 0.4304, Accuracy: 81.54%\n",
      "Epoch [11/20], Step [19/19], Loss: 0.3425, Accuracy: 81.54%\n",
      "Epoch [12/20], Step [19/19], Loss: 0.2259, Accuracy: 90.77%\n",
      "Epoch [13/20], Step [19/19], Loss: 0.2530, Accuracy: 89.23%\n",
      "Epoch [14/20], Step [19/19], Loss: 0.1610, Accuracy: 93.85%\n",
      "Epoch [15/20], Step [19/19], Loss: 0.1321, Accuracy: 96.92%\n",
      "Epoch [16/20], Step [19/19], Loss: 0.3522, Accuracy: 86.15%\n",
      "Epoch [17/20], Step [19/19], Loss: 0.1820, Accuracy: 92.31%\n",
      "Epoch [18/20], Step [19/19], Loss: 0.1509, Accuracy: 90.77%\n",
      "Epoch [19/20], Step [19/19], Loss: 0.1902, Accuracy: 92.31%\n",
      "Epoch [20/20], Step [19/19], Loss: 0.0742, Accuracy: 96.92%\n"
     ]
    }
   ],
   "source": [
    "#training the model\n",
    "total_step = len(train_loader)\n",
    "loss_list = []\n",
    "acc_list = []\n",
    "for epoch in range(num_epochs):\n",
    "    for i, (images, labels) in enumerate(train_loader):\n",
    "        # Forward pass\n",
    "        outputs = model(images)\n",
    "        loss = criterion(outputs, labels)\n",
    "        loss_list.append(loss.item())\n",
    "        # Backprop and optimisation\n",
    "        optimizer.zero_grad()\n",
    "        loss.backward()\n",
    "        optimizer.step()\n",
    "        # Train accuracy\n",
    "        total = labels.size(0)\n",
    "        _, predicted = torch.max(outputs.data, 1)\n",
    "        correct = (predicted == labels).sum().item()\n",
    "        acc_list.append(correct / total)\n",
    "    print('Epoch [{}/{}], Step [{}/{}], Loss: {:.4f}, Accuracy: {:.2f}%'\n",
    "        .format(epoch + 1, num_epochs, i + 1, total_step, loss.item(),\n",
    "        (correct / total) * 100))"
   ]
  },
  {
   "cell_type": "code",
   "execution_count": 15,
   "id": "4c004793",
   "metadata": {},
   "outputs": [],
   "source": [
    "#Saving Model\n",
    "path = r\"/Users/Jed/Music/Artifical-Intelligence-Project-main/Artifical-Intelligence-Project-main\\Artifical-Intelligence-Project/Models/Model2.pt\"\n",
    "\n",
    "torch.save(model.state_dict(), path)"
   ]
  },
  {
   "cell_type": "code",
   "execution_count": 17,
   "id": "abc6ce25",
   "metadata": {},
   "outputs": [
    {
     "name": "stdout",
     "output_type": "stream",
     "text": [
      "Test Accuracy of the model on the 600 test images: 78.0 %\n",
      "Test Accuracy of the model on the 600 test images: 79.5 %\n",
      "Test Accuracy of the model on the 600 test images: 78.33333333333333 %\n",
      "Test Accuracy of the model on the 600 test images: 75.5 %\n",
      "Test Accuracy of the model on the 600 test images: 76.4 %\n",
      "Test Accuracy of the model on the 600 test images: 76.33333333333333 %\n",
      "Test Accuracy of the model on the 600 test images: 76.45161290322581 %\n"
     ]
    }
   ],
   "source": [
    "#testing the model after it has beeen trained\n",
    "model.eval()\n",
    "with torch.no_grad():\n",
    "    correct = 0\n",
    "    total = 0\n",
    "    for images, labels in test_loader:\n",
    "        outputs = model(images)\n",
    "        _, predicted = torch.max(outputs.data, 1)\n",
    "        total += labels.size(0)\n",
    "        correct += (predicted == labels).sum().item()\n",
    "        print('Test Accuracy of the model on the 600 test images: {} %'\n",
    "          .format((correct / total) * 100))"
   ]
  },
  {
   "cell_type": "code",
   "execution_count": 19,
   "id": "97cb7e81",
   "metadata": {},
   "outputs": [
    {
     "name": "stdout",
     "output_type": "stream",
     "text": [
      "Time to evaluate our data.\n",
      "First will be the training data.\n"
     ]
    },
    {
     "data": {
      "image/png": "[encoded data removed]",
      "text/plain": [
       "<Figure size 432x288 with 2 Axes>"
      ]
     },
     "metadata": {
      "needs_background": "light"
     },
     "output_type": "display_data"
    },
    {
     "name": "stdout",
     "output_type": "stream",
     "text": [
      "              precision    recall  f1-score   support\n",
      "\n",
      "           0       0.97      0.99      0.98       495\n",
      "           1       1.00      0.94      0.97       440\n",
      "           2       1.00      0.99      1.00       518\n",
      "           3       0.96      1.00      0.98       412\n",
      "\n",
      "    accuracy                           0.98      1865\n",
      "   macro avg       0.98      0.98      0.98      1865\n",
      "weighted avg       0.98      0.98      0.98      1865\n",
      "\n"
     ]
    }
   ],
   "source": [
    "import matplotlib.pyplot as plt\n",
    "import numpy as np\n",
    "from sklearn.metrics import plot_confusion_matrix\n",
    "from sklearn.metrics import confusion_matrix\n",
    "from sklearn.metrics import classification_report\n",
    "import seaborn as sns\n",
    "\n",
    "print(\"Time to evaluate our data.\")\n",
    "print(\"First will be the training data.\")\n",
    "\n",
    "#building Confusion Matrix as well as getting accuracy, predictions and F1 score for train model\n",
    "model.eval()\n",
    "prediction_list = []\n",
    "accurate_list = []\n",
    "with torch.no_grad():\n",
    "    for images, labels in train_loader:\n",
    "        outputs = model(images)\n",
    "        _, predicted = torch.max(model(images), 1)\n",
    "        prediction_list.extend(predicted.detach().cpu().numpy())\n",
    "        accurate_list.extend(labels.detach().cpu().numpy())\n",
    "  \n",
    "  \n",
    "confusion_matrix_data = confusion_matrix(accurate_list, prediction_list)\n",
    "confusionMatrix = sns.heatmap(confusion_matrix_data, annot=True, fmt='g' )\n",
    "confusionMatrix.set_title('Confusion Matrix');\n",
    "confusionMatrix.set_xlabel('Predicted Categories')\n",
    "confusionMatrix.set_ylabel('Actual Categories');\n",
    "confusionMatrix.xaxis.set_ticklabels(['Cloth Mask','N95','No Mask','Surgical Mask'])\n",
    "confusionMatrix.yaxis.set_ticklabels(['Cloth Mask','N95','No Mask','Surgical Mask'])\n",
    "\n",
    "  \n",
    "plt.show()\n",
    "\n",
    "#printing Accuracy, Prediction and F1 score for training model\n",
    "print(classification_report(prediction_list, accurate_list))"
   ]
  },
  {
   "cell_type": "code",
   "execution_count": 21,
   "id": "2e7f1935",
   "metadata": {
    "scrolled": true
   },
   "outputs": [
    {
     "name": "stdout",
     "output_type": "stream",
     "text": [
      "Now to evaluate the testing data.\n"
     ]
    },
    {
     "data": {
      "image/png": "[encoded data removed]",
      "text/plain": [
       "<Figure size 432x288 with 2 Axes>"
      ]
     },
     "metadata": {
      "needs_background": "light"
     },
     "output_type": "display_data"
    },
    {
     "name": "stdout",
     "output_type": "stream",
     "text": [
      "              precision    recall  f1-score   support\n",
      "\n",
      "           0       0.69      0.78      0.74       142\n",
      "           1       0.78      0.60      0.68       176\n",
      "           2       0.95      0.85      0.90       172\n",
      "           3       0.65      0.85      0.74       130\n",
      "\n",
      "    accuracy                           0.76       620\n",
      "   macro avg       0.77      0.77      0.76       620\n",
      "weighted avg       0.78      0.76      0.76       620\n",
      "\n"
     ]
    }
   ],
   "source": [
    "#building Confusion Matrix as well as getting accuracy, predictions and F1 score for test model\n",
    "\n",
    "print(\"Now to evaluate the testing data.\")\n",
    "model.eval()\n",
    "prediction_list = []\n",
    "accurate_list = []\n",
    "with torch.no_grad():\n",
    "    for images, labels in test_loader:\n",
    "        outputs = model(images)\n",
    "        _, predicted = torch.max(model(images), 1)\n",
    "        prediction_list.extend(predicted.detach().cpu().numpy())\n",
    "        accurate_list.extend(labels.detach().cpu().numpy())\n",
    "  \n",
    "  \n",
    "confusion_matrix_data = confusion_matrix(accurate_list, prediction_list)\n",
    "confusionMatrix = sns.heatmap(confusion_matrix_data, annot=True, fmt='g' )\n",
    "confusionMatrix.set_title('Confusion Matrix');\n",
    "confusionMatrix.set_xlabel('Predicted Categories')\n",
    "confusionMatrix.set_ylabel('Actual Categories');\n",
    "confusionMatrix.xaxis.set_ticklabels(['Cloth Mask','N95','No Mask','Surgical Mask'])\n",
    "confusionMatrix.yaxis.set_ticklabels(['Cloth Mask','N95','No Mask','Surgical Mask'])\n",
    "\n",
    "  \n",
    "plt.show()\n",
    "\n",
    "#printing Accuracy, Prediction and F1 score for testing model\n",
    "print(classification_report(prediction_list, accurate_list))"
   ]
  },
  {
   "cell_type": "code",
   "execution_count": 43,
   "id": "5d2866e2",
   "metadata": {},
   "outputs": [],
   "source": [
    "bias_dataset_adult = torchvision.datasets.ImageFolder('/Users/Jed/Music/Artifical-Intelligence-Project-main/Artifical-Intelligence-Project-main/Artifical-Intelligence-Project/BiasDataset/Adult', \n",
    "                                                transform=transformation)\n",
    "\n",
    "bias_loader_adult = torch.utils.data.DataLoader(bias_dataset_adult, batch_size=100, shuffle=True, num_workers=0)"
   ]
  },
  {
   "cell_type": "code",
   "execution_count": 44,
   "id": "f15ae713",
   "metadata": {},
   "outputs": [
    {
     "name": "stdout",
     "output_type": "stream",
     "text": [
      "Test Accuracy of the model on the 100 Adult images: 83.0 %\n",
      "Test Accuracy of the model on the 100 Adult images: 86.5 %\n",
      "Test Accuracy of the model on the 100 Adult images: 85.66666666666667 %\n",
      "Test Accuracy of the model on the 100 Adult images: 85.92375366568915 %\n"
     ]
    }
   ],
   "source": [
    "model.eval()\n",
    "with torch.no_grad():\n",
    "    correct = 0\n",
    "    total = 0\n",
    "    for images, labels in bias_loader_adult :\n",
    "        outputs = model(images)\n",
    "        _, predicted = torch.max(outputs.data, 1)\n",
    "        total += labels.size(0)\n",
    "        correct += (predicted == labels).sum().item()\n",
    "        print('Test Accuracy of the model on the 100 Adult images: {} %'\n",
    "          .format((correct / total) * 100))"
   ]
  },
  {
   "cell_type": "code",
   "execution_count": 45,
   "id": "9db45c24",
   "metadata": {},
   "outputs": [
    {
     "name": "stdout",
     "output_type": "stream",
     "text": [
      "Now to evaluate the Adult data.\n"
     ]
    },
    {
     "data": {
      "image/png": "[encoded data removed]",
      "text/plain": [
       "<Figure size 432x288 with 2 Axes>"
      ]
     },
     "metadata": {
      "needs_background": "light"
     },
     "output_type": "display_data"
    },
    {
     "name": "stdout",
     "output_type": "stream",
     "text": [
      "              precision    recall  f1-score   support\n",
      "\n",
      "           0       0.86      0.89      0.87        97\n",
      "           1       0.70      0.78      0.74        68\n",
      "           2       0.97      0.92      0.95       105\n",
      "           3       0.88      0.80      0.84        71\n",
      "\n",
      "    accuracy                           0.86       341\n",
      "   macro avg       0.85      0.85      0.85       341\n",
      "weighted avg       0.86      0.86      0.86       341\n",
      "\n"
     ]
    }
   ],
   "source": [
    "print(\"Now to evaluate the Adult data.\")\n",
    "model.eval()\n",
    "prediction_list = []\n",
    "accurate_list = []\n",
    "with torch.no_grad():\n",
    "    for images, labels in bias_loader_adult:\n",
    "        outputs = model(images)\n",
    "        _, predicted = torch.max(model(images), 1)\n",
    "        prediction_list.extend(predicted.detach().cpu().numpy())\n",
    "        accurate_list.extend(labels.detach().cpu().numpy())\n",
    "  \n",
    "  \n",
    "confusion_matrix_data = confusion_matrix(accurate_list, prediction_list)\n",
    "confusionMatrix = sns.heatmap(confusion_matrix_data, annot=True, fmt='g' )\n",
    "confusionMatrix.set_title('Confusion Matrix');\n",
    "confusionMatrix.set_xlabel('Predicted Categories')\n",
    "confusionMatrix.set_ylabel('Actual Categories');\n",
    "confusionMatrix.xaxis.set_ticklabels(['Cloth Mask','N95','No Mask','Surgical Mask'])\n",
    "confusionMatrix.yaxis.set_ticklabels(['Cloth Mask','N95','No Mask','Surgical Mask'])\n",
    "\n",
    "  \n",
    "plt.show()\n",
    "\n",
    "#printing Accuracy, Prediction and F1 score for testing model\n",
    "print(classification_report(prediction_list, accurate_list))"
   ]
  },
  {
   "cell_type": "code",
   "execution_count": 50,
   "id": "d4ea9015",
   "metadata": {},
   "outputs": [],
   "source": [
    "bias_dataset_child = torchvision.datasets.ImageFolder('/Users/Jed/Music/Artifical-Intelligence-Project-main/Artifical-Intelligence-Project-main/Artifical-Intelligence-Project/BiasDataset/Child', \n",
    "                                                transform=transformation)\n",
    "\n",
    "bias_loader_child = torch.utils.data.DataLoader(bias_dataset_child, batch_size=100, shuffle=True, num_workers=2)"
   ]
  },
  {
   "cell_type": "code",
   "execution_count": 52,
   "id": "cd6eadbc",
   "metadata": {},
   "outputs": [
    {
     "name": "stdout",
     "output_type": "stream",
     "text": [
      "Test Accuracy of the model on the 100 Child images: 73.0 %\n",
      "Test Accuracy of the model on the 100 Child images: 71.5 %\n",
      "Test Accuracy of the model on the 100 Child images: 70.33333333333334 %\n",
      "Test Accuracy of the model on the 100 Child images: 70.52896725440806 %\n"
     ]
    }
   ],
   "source": [
    "model.eval()\n",
    "with torch.no_grad():\n",
    "    correct = 0\n",
    "    total = 0\n",
    "    for images, labels in bias_loader_child :\n",
    "        outputs = model(images)\n",
    "        _, predicted = torch.max(outputs.data, 1)\n",
    "        total += labels.size(0)\n",
    "        correct += (predicted == labels).sum().item()\n",
    "        print('Test Accuracy of the model on the 100 Child images: {} %'\n",
    "          .format((correct / total) * 100))"
   ]
  },
  {
   "cell_type": "code",
   "execution_count": 56,
   "id": "77187e86",
   "metadata": {},
   "outputs": [
    {
     "name": "stdout",
     "output_type": "stream",
     "text": [
      "Now to evaluate the child data.\n"
     ]
    },
    {
     "data": {
      "image/png": "[encoded data removed]",
      "text/plain": [
       "<Figure size 432x288 with 2 Axes>"
      ]
     },
     "metadata": {
      "needs_background": "light"
     },
     "output_type": "display_data"
    },
    {
     "name": "stdout",
     "output_type": "stream",
     "text": [
      "              precision    recall  f1-score   support\n",
      "\n",
      "           0       0.82      0.63      0.71       134\n",
      "           1       0.63      0.60      0.61       102\n",
      "           2       0.68      0.86      0.76        79\n",
      "           3       0.68      0.82      0.74        82\n",
      "\n",
      "    accuracy                           0.71       397\n",
      "   macro avg       0.70      0.73      0.71       397\n",
      "weighted avg       0.72      0.71      0.70       397\n",
      "\n"
     ]
    }
   ],
   "source": [
    "print(\"Now to evaluate the child data.\")\n",
    "model.eval()\n",
    "prediction_list = []\n",
    "accurate_list = []\n",
    "with torch.no_grad():\n",
    "    for images, labels in bias_loader_child:\n",
    "        outputs = model(images)\n",
    "        _, predicted = torch.max(model(images), 1)\n",
    "        prediction_list.extend(predicted.detach().cpu().numpy())\n",
    "        accurate_list.extend(labels.detach().cpu().numpy())\n",
    "  \n",
    "  \n",
    "confusion_matrix_data = confusion_matrix(accurate_list, prediction_list)\n",
    "confusionMatrix = sns.heatmap(confusion_matrix_data, annot=True, fmt='g' )\n",
    "confusionMatrix.set_title('Confusion Matrix');\n",
    "confusionMatrix.set_xlabel('Predicted Categories')\n",
    "confusionMatrix.set_ylabel('Actual Categories');\n",
    "confusionMatrix.xaxis.set_ticklabels(['Cloth Mask','N95','No Mask','Surgical Mask'])\n",
    "confusionMatrix.yaxis.set_ticklabels(['Cloth Mask','N95','No Mask','Surgical Mask'])\n",
    "\n",
    "  \n",
    "plt.show()\n",
    "\n",
    "#printing Accuracy, Prediction and F1 score for testing model\n",
    "print(classification_report(prediction_list, accurate_list))"
   ]
  },
  {
   "cell_type": "code",
   "execution_count": 57,
   "id": "10f155b1",
   "metadata": {},
   "outputs": [],
   "source": [
    "bias_dataset_female = torchvision.datasets.ImageFolder('/Users/Jed/Music/Artifical-Intelligence-Project-main/Artifical-Intelligence-Project-main/Artifical-Intelligence-Project/BiasDataset/Female', \n",
    "                                                transform=transformation)\n",
    "\n",
    "bias_loader_female = torch.utils.data.DataLoader(bias_dataset_female, batch_size=100, shuffle=True, num_workers=2)"
   ]
  },
  {
   "cell_type": "code",
   "execution_count": 58,
   "id": "f597d3ea",
   "metadata": {},
   "outputs": [
    {
     "name": "stdout",
     "output_type": "stream",
     "text": [
      "Test Accuracy of the model on the 100 female images: 91.0 %\n",
      "Test Accuracy of the model on the 100 female images: 87.0 %\n",
      "Test Accuracy of the model on the 100 female images: 84.0 %\n",
      "Test Accuracy of the model on the 100 female images: 82.53968253968253 %\n"
     ]
    }
   ],
   "source": [
    "model.eval()\n",
    "with torch.no_grad():\n",
    "    correct = 0\n",
    "    total = 0\n",
    "    for images, labels in bias_loader_female :\n",
    "        outputs = model(images)\n",
    "        _, predicted = torch.max(outputs.data, 1)\n",
    "        total += labels.size(0)\n",
    "        correct += (predicted == labels).sum().item()\n",
    "        print('Test Accuracy of the model on the 100 female images: {} %'\n",
    "          .format((correct / total) * 100))"
   ]
  },
  {
   "cell_type": "code",
   "execution_count": 59,
   "id": "a3463985",
   "metadata": {},
   "outputs": [
    {
     "name": "stdout",
     "output_type": "stream",
     "text": [
      "Now to evaluate the Female data.\n"
     ]
    },
    {
     "data": {
      "image/png": "[encoded data removed]",
      "text/plain": [
       "<Figure size 432x288 with 2 Axes>"
      ]
     },
     "metadata": {
      "needs_background": "light"
     },
     "output_type": "display_data"
    },
    {
     "name": "stdout",
     "output_type": "stream",
     "text": [
      "              precision    recall  f1-score   support\n",
      "\n",
      "           0       0.91      0.85      0.88       107\n",
      "           1       0.85      0.67      0.75       106\n",
      "           2       0.97      0.91      0.94       107\n",
      "           3       0.56      0.91      0.70        58\n",
      "\n",
      "    accuracy                           0.83       378\n",
      "   macro avg       0.82      0.84      0.82       378\n",
      "weighted avg       0.86      0.83      0.83       378\n",
      "\n"
     ]
    }
   ],
   "source": [
    "print(\"Now to evaluate the Female data.\")\n",
    "model.eval()\n",
    "prediction_list = []\n",
    "accurate_list = []\n",
    "with torch.no_grad():\n",
    "    for images, labels in bias_loader_female:\n",
    "        outputs = model(images)\n",
    "        _, predicted = torch.max(model(images), 1)\n",
    "        prediction_list.extend(predicted.detach().cpu().numpy())\n",
    "        accurate_list.extend(labels.detach().cpu().numpy())\n",
    "  \n",
    "  \n",
    "confusion_matrix_data = confusion_matrix(accurate_list, prediction_list)\n",
    "confusionMatrix = sns.heatmap(confusion_matrix_data, annot=True, fmt='g' )\n",
    "confusionMatrix.set_title('Confusion Matrix');\n",
    "confusionMatrix.set_xlabel('Predicted Categories')\n",
    "confusionMatrix.set_ylabel('Actual Categories');\n",
    "confusionMatrix.xaxis.set_ticklabels(['Cloth Mask','N95','No Mask','Surgical Mask'])\n",
    "confusionMatrix.yaxis.set_ticklabels(['Cloth Mask','N95','No Mask','Surgical Mask'])\n",
    "\n",
    "  \n",
    "plt.show()\n",
    "\n",
    "#printing Accuracy, Prediction and F1 score for testing model\n",
    "print(classification_report(prediction_list, accurate_list))"
   ]
  },
  {
   "cell_type": "code",
   "execution_count": 60,
   "id": "58edfb94",
   "metadata": {},
   "outputs": [],
   "source": [
    "bias_dataset_male = torchvision.datasets.ImageFolder('/Users/Jed/Music/Artifical-Intelligence-Project-main/Artifical-Intelligence-Project-main/Artifical-Intelligence-Project/BiasDataset/Male', \n",
    "                                                transform=transformation)\n",
    "\n",
    "bias_loader_male = torch.utils.data.DataLoader(bias_dataset_male, batch_size=100, shuffle=True, num_workers=2)"
   ]
  },
  {
   "cell_type": "code",
   "execution_count": 62,
   "id": "069a9365",
   "metadata": {},
   "outputs": [
    {
     "name": "stdout",
     "output_type": "stream",
     "text": [
      "Test Accuracy of the model on the 100 male images: 81.0 %\n",
      "Test Accuracy of the model on the 100 male images: 81.0 %\n",
      "Test Accuracy of the model on the 100 male images: 81.66666666666667 %\n",
      "Test Accuracy of the model on the 100 male images: 81.15183246073299 %\n"
     ]
    }
   ],
   "source": [
    "model.eval()\n",
    "with torch.no_grad():\n",
    "    correct = 0\n",
    "    total = 0\n",
    "    for images, labels in bias_loader_male :\n",
    "        outputs = model(images)\n",
    "        _, predicted = torch.max(outputs.data, 1)\n",
    "        total += labels.size(0)\n",
    "        correct += (predicted == labels).sum().item()\n",
    "        print('Test Accuracy of the model on the 100 male images: {} %'\n",
    "          .format((correct / total) * 100))"
   ]
  },
  {
   "cell_type": "code",
   "execution_count": 63,
   "id": "401b83e6",
   "metadata": {
    "scrolled": true
   },
   "outputs": [
    {
     "name": "stdout",
     "output_type": "stream",
     "text": [
      "Now to evaluate the Male data.\n"
     ]
    },
    {
     "data": {
      "image/png": "[encoded data removed]",
      "text/plain": [
       "<Figure size 432x288 with 2 Axes>"
      ]
     },
     "metadata": {
      "needs_background": "light"
     },
     "output_type": "display_data"
    },
    {
     "name": "stdout",
     "output_type": "stream",
     "text": [
      "              precision    recall  f1-score   support\n",
      "\n",
      "           0       0.86      0.79      0.82       112\n",
      "           1       0.75      0.65      0.69        96\n",
      "           2       0.99      0.94      0.97       105\n",
      "           3       0.63      0.88      0.73        69\n",
      "\n",
      "    accuracy                           0.81       382\n",
      "   macro avg       0.81      0.81      0.80       382\n",
      "weighted avg       0.83      0.81      0.81       382\n",
      "\n"
     ]
    }
   ],
   "source": [
    "print(\"Now to evaluate the Male data.\")\n",
    "model.eval()\n",
    "prediction_list = []\n",
    "accurate_list = []\n",
    "with torch.no_grad():\n",
    "    for images, labels in bias_loader_male:\n",
    "        outputs = model(images)\n",
    "        _, predicted = torch.max(model(images), 1)\n",
    "        prediction_list.extend(predicted.detach().cpu().numpy())\n",
    "        accurate_list.extend(labels.detach().cpu().numpy())\n",
    "  \n",
    "  \n",
    "confusion_matrix_data = confusion_matrix(accurate_list, prediction_list)\n",
    "confusionMatrix = sns.heatmap(confusion_matrix_data, annot=True, fmt='g' )\n",
    "confusionMatrix.set_title('Confusion Matrix');\n",
    "confusionMatrix.set_xlabel('Predicted Categories')\n",
    "confusionMatrix.set_ylabel('Actual Categories');\n",
    "confusionMatrix.xaxis.set_ticklabels(['Cloth Mask','N95','No Mask','Surgical Mask'])\n",
    "confusionMatrix.yaxis.set_ticklabels(['Cloth Mask','N95','No Mask','Surgical Mask'])\n",
    "\n",
    "  \n",
    "plt.show()\n",
    "\n",
    "#printing Accuracy, Prediction and F1 score for testing model\n",
    "print(classification_report(prediction_list, accurate_list))"
   ]
  }
 ],
 "metadata": {
  "kernelspec": {
   "display_name": "Python 3",
   "language": "python",
   "name": "python3"
  },
  "language_info": {
   "codemirror_mode": {
    "name": "ipython",
    "version": 3
   },
   "file_extension": ".py",
   "mimetype": "text/x-python",
   "name": "python",
   "nbconvert_exporter": "python",
   "pygments_lexer": "ipython3",
   "version": "3.6.13"
  }
 },
 "nbformat": 4,
 "nbformat_minor": 5
}
