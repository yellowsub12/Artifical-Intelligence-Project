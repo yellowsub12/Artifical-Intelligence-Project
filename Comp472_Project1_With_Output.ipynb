{
 "cells": [
  {
   "cell_type": "code",
   "execution_count": 1,
   "id": "89407e91",
   "metadata": {},
   "outputs": [],
   "source": [
    "import torch\n",
    "import torchvision\n",
    "import torchvision.transforms as transforms\n",
    "import torch \n",
    "from torch.utils.data import Dataset \n",
    "from torch.utils.data import random_split\n",
    "from PIL import Image\n",
    "import os\n",
    "      \n"
   ]
  },
  {
   "cell_type": "code",
   "execution_count": 2,
   "id": "7fb4b26d",
   "metadata": {},
   "outputs": [
    {
     "name": "stdout",
     "output_type": "stream",
     "text": [
      "33\n",
      "11\n"
     ]
    }
   ],
   "source": [
    "input_size = 3072\n",
    "D_in = input_size\n",
    "H = 50\n",
    "D_out = 10\n",
    "num_epochs = 30\n",
    "transformation = transforms.Compose( [transforms.Resize((32,32)), \n",
    "                                          transforms.ToTensor(),\n",
    "                                          transforms.Normalize(mean=[0.5, 0.5, 0.5],\n",
    "                                          std=[0.5, 0.5, 0.5])])\n",
    "\n",
    "#grabbing dataset\n",
    "dataset = torchvision.datasets.ImageFolder('/Users/jgold/Documents/GitHub/Artifical-Intelligence-Project/Dataset', \n",
    "                                                transform=transformation)\n",
    "\n",
    "#randomly splitting for training and testing\n",
    "training_set, testing_set = random_split(dataset, [3237, 1079])\n",
    "\n",
    "\n",
    "                                                \n",
    "train_loader = torch.utils.data.DataLoader(training_set, batch_size=100, shuffle=True, num_workers=2)\n",
    "test_loader = torch.utils.data.DataLoader(testing_set, batch_size=100, shuffle=True, num_workers=2)\n",
    "\n",
    "print(len(train_loader))\n",
    "\n",
    "print(len(test_loader))"
   ]
  },
  {
   "cell_type": "code",
   "execution_count": 3,
   "id": "875c1b88",
   "metadata": {},
   "outputs": [],
   "source": [
    "import torch.nn as nn\n",
    "import torch.nn.functional as F\n",
    "import torch.utils.data as td\n",
    "\n",
    "class MultiLayerFCNet(nn.Module):\n",
    "    def __init__(self, D_in, H, D_out):\n",
    "        super(MultiLayerFCNet, self).__init__()\n",
    "        self.linear1 = torch.nn.Linear(D_in, H)\n",
    "        self.linear2 = torch.nn.Linear(H, H)\n",
    "        self.linear3 = torch.nn.Linear(H, H)\n",
    "        self.linear4 = torch.nn.Linear(H, D_out)\n",
    "    def forward(self, x):\n",
    "        x = F.relu(self.linear1(x))\n",
    "        x = F.relu(self.linear2(x))\n",
    "        x = F.relu(self.linear3(x))\n",
    "        x = self.linear4(x)\n",
    "        return F.log_softmax(x,dim=1)\n"
   ]
  },
  {
   "cell_type": "code",
   "execution_count": 4,
   "id": "aab335fa",
   "metadata": {},
   "outputs": [],
   "source": [
    "model = MultiLayerFCNet(D_in, H, D_out)\n",
    "criterion = torch.nn.CrossEntropyLoss()\n",
    "optimizer = torch.optim.SGD(model.parameters(), lr=0.01, momentum=0.9)"
   ]
  },
  {
   "cell_type": "code",
   "execution_count": 5,
   "id": "70f2bea9",
   "metadata": {
    "scrolled": true
   },
   "outputs": [
    {
     "name": "stdout",
     "output_type": "stream",
     "text": [
      "Epoch [1/30], Averge Loss:for epoch[1, 1.9733]\n",
      "Epoch [2/30], Averge Loss:for epoch[2, 1.2386]\n",
      "Epoch [3/30], Averge Loss:for epoch[3, 1.0114]\n",
      "Epoch [4/30], Averge Loss:for epoch[4, 0.9127]\n",
      "Epoch [5/30], Averge Loss:for epoch[5, 0.8472]\n",
      "Epoch [6/30], Averge Loss:for epoch[6, 0.8123]\n",
      "Epoch [7/30], Averge Loss:for epoch[7, 0.7836]\n",
      "Epoch [8/30], Averge Loss:for epoch[8, 0.7368]\n",
      "Epoch [9/30], Averge Loss:for epoch[9, 0.7189]\n",
      "Epoch [10/30], Averge Loss:for epoch[10, 0.6766]\n",
      "Epoch [11/30], Averge Loss:for epoch[11, 0.6238]\n",
      "Epoch [12/30], Averge Loss:for epoch[12, 0.6214]\n",
      "Epoch [13/30], Averge Loss:for epoch[13, 0.6385]\n",
      "Epoch [14/30], Averge Loss:for epoch[14, 0.5435]\n",
      "Epoch [15/30], Averge Loss:for epoch[15, 0.5328]\n",
      "Epoch [16/30], Averge Loss:for epoch[16, 0.4715]\n",
      "Epoch [17/30], Averge Loss:for epoch[17, 0.4251]\n",
      "Epoch [18/30], Averge Loss:for epoch[18, 0.4347]\n",
      "Epoch [19/30], Averge Loss:for epoch[19, 0.4957]\n",
      "Epoch [20/30], Averge Loss:for epoch[20, 0.4209]\n",
      "Epoch [21/30], Averge Loss:for epoch[21, 0.3525]\n",
      "Epoch [22/30], Averge Loss:for epoch[22, 0.3395]\n",
      "Epoch [23/30], Averge Loss:for epoch[23, 0.3332]\n",
      "Epoch [24/30], Averge Loss:for epoch[24, 0.3594]\n",
      "Epoch [25/30], Averge Loss:for epoch[25, 0.2730]\n",
      "Epoch [26/30], Averge Loss:for epoch[26, 0.2533]\n",
      "Epoch [27/30], Averge Loss:for epoch[27, 0.2207]\n",
      "Epoch [28/30], Averge Loss:for epoch[28, 0.2136]\n",
      "Epoch [29/30], Averge Loss:for epoch[29, 0.2248]\n",
      "Epoch [30/30], Averge Loss:for epoch[30, 0.2472]\n"
     ]
    }
   ],
   "source": [
    "for epoch in range(num_epochs):\n",
    "    avg_loss_epoch = 0\n",
    "    batch_loss = 0\n",
    "    total_batches = 0\n",
    "    for i, (images, labels) in enumerate(train_loader):\n",
    "        images = images.reshape(-1, 32 * 32 * 3)\n",
    "        outputs = model(images)\n",
    "        loss = criterion(outputs, labels)\n",
    "        optimizer.zero_grad()\n",
    "        loss.backward()\n",
    "        optimizer.step()\n",
    "        total_batches += 1\n",
    "        batch_loss += loss.item()\n",
    "        avg_loss_epoch = batch_loss / total_batches\n",
    "    print('Epoch [{}/{}], Averge Loss:for epoch[{}, {:.4f}]'\n",
    "    .format(epoch + 1, num_epochs, epoch + 1, avg_loss_epoch))"
   ]
  },
  {
   "cell_type": "code",
   "execution_count": 6,
   "id": "5662ce58",
   "metadata": {},
   "outputs": [
    {
     "name": "stdout",
     "output_type": "stream",
     "text": [
      "Testing accuracy of test set before training the model.\n",
      "Accuracy of the network on the 1079 test images: 57 %\n",
      "Accuracy of the network on the 1079 test images: 58 %\n",
      "Accuracy of the network on the 1079 test images: 60 %\n",
      "Accuracy of the network on the 1079 test images: 59 %\n",
      "Accuracy of the network on the 1079 test images: 59 %\n",
      "Accuracy of the network on the 1079 test images: 58 %\n",
      "Accuracy of the network on the 1079 test images: 60 %\n",
      "Accuracy of the network on the 1079 test images: 62 %\n",
      "Accuracy of the network on the 1079 test images: 62 %\n",
      "Accuracy of the network on the 1079 test images: 62 %\n",
      "Accuracy of the network on the 1079 test images: 61 %\n"
     ]
    }
   ],
   "source": [
    "#testing before training just to see\n",
    "\n",
    "print(\"Testing accuracy of test set with first model.\")\n",
    "correct = 0\n",
    "total = 0\n",
    "for images, labels in test_loader:\n",
    "    images = images.reshape(-1, 3 * 32 * 32)\n",
    "    outputs_test = model(images)\n",
    "    _, predicted = torch.max(outputs_test.data, 1)\n",
    "    total += labels.size(0)\n",
    "    correct += (predicted == labels).sum().item()\n",
    "    print('Accuracy of the network on the 1079 test images: %d %%'\n",
    "    % (100 * correct / total))\n"
   ]
  },
  {
   "cell_type": "code",
   "execution_count": 7,
   "id": "d330d2e1",
   "metadata": {},
   "outputs": [],
   "source": [
    "#building neural network\n",
    "class CNN(nn.Module):\n",
    "    def __init__(self):\n",
    "        super(CNN, self).__init__()\n",
    "        self.conv_layer = nn.Sequential(\n",
    "        nn.Conv2d(in_channels=3, out_channels=32, kernel_size=3, padding=1),\n",
    "        nn.BatchNorm2d(32),\n",
    "        nn.LeakyReLU(inplace=True),\n",
    "        nn.Conv2d(in_channels=32, out_channels=32, kernel_size=3, padding=1),\n",
    "        nn.BatchNorm2d(32),\n",
    "        nn.LeakyReLU(inplace=True),\n",
    "        nn.MaxPool2d(kernel_size=2, stride=2),\n",
    "        nn.Conv2d(in_channels=32, out_channels=64, kernel_size=3, padding=1),\n",
    "        nn.BatchNorm2d(64),\n",
    "        nn.LeakyReLU(inplace=True),\n",
    "        nn.Conv2d(in_channels=64, out_channels=64, kernel_size=3, padding=1),\n",
    "        nn.BatchNorm2d(64),\n",
    "        nn.LeakyReLU(inplace=True),\n",
    "        nn.MaxPool2d(kernel_size=2, stride=2),\n",
    "    )\n",
    "        self.fc_layer = nn.Sequential(\n",
    "        nn.Dropout(p=0.1),\n",
    "        nn.Linear(8 * 8 * 64, 1000),\n",
    "        nn.ReLU(inplace=True),\n",
    "        nn.Linear(1000, 512),\n",
    "        nn.ReLU(inplace=True),\n",
    "        nn.Dropout(p=0.1),\n",
    "        nn.Linear(512, 10)\n",
    "    )\n",
    "    def forward(self, x):\n",
    "        # conv layers\n",
    "        x = self.conv_layer(x)\n",
    "        # flatten\n",
    "        x = x.view(x.size(0), -1)\n",
    "        # fc layer\n",
    "        x = self.fc_layer(x)\n",
    "        return x\n"
   ]
  },
  {
   "cell_type": "code",
   "execution_count": 8,
   "id": "740cefa4",
   "metadata": {},
   "outputs": [],
   "source": [
    "num_epochs = 30\n",
    "num_classes = 4\n",
    "learning_rate = 0.001\n"
   ]
  },
  {
   "cell_type": "code",
   "execution_count": 9,
   "id": "5ddfeea9",
   "metadata": {},
   "outputs": [],
   "source": [
    "#initializing CNN\n",
    "model = CNN()\n",
    "criterion = nn.CrossEntropyLoss()\n",
    "optimizer = torch.optim.Adam(model.parameters(), lr=learning_rate)"
   ]
  },
  {
   "cell_type": "code",
   "execution_count": 10,
   "id": "c234cbcb",
   "metadata": {},
   "outputs": [
    {
     "name": "stdout",
     "output_type": "stream",
     "text": [
      "Epoch [1/30], Step [33/33], Loss: 0.8992, Accuracy: 56.76%\n",
      "Epoch [2/30], Step [33/33], Loss: 0.8493, Accuracy: 64.86%\n",
      "Epoch [3/30], Step [33/33], Loss: 0.8597, Accuracy: 64.86%\n",
      "Epoch [4/30], Step [33/33], Loss: 1.0053, Accuracy: 56.76%\n",
      "Epoch [5/30], Step [33/33], Loss: 0.7013, Accuracy: 64.86%\n",
      "Epoch [6/30], Step [33/33], Loss: 0.5502, Accuracy: 81.08%\n",
      "Epoch [7/30], Step [33/33], Loss: 0.3276, Accuracy: 83.78%\n",
      "Epoch [8/30], Step [33/33], Loss: 1.0590, Accuracy: 67.57%\n",
      "Epoch [9/30], Step [33/33], Loss: 0.4203, Accuracy: 81.08%\n",
      "Epoch [10/30], Step [33/33], Loss: 0.3653, Accuracy: 89.19%\n",
      "Epoch [11/30], Step [33/33], Loss: 0.3835, Accuracy: 86.49%\n",
      "Epoch [12/30], Step [33/33], Loss: 0.3058, Accuracy: 86.49%\n",
      "Epoch [13/30], Step [33/33], Loss: 0.4683, Accuracy: 81.08%\n",
      "Epoch [14/30], Step [33/33], Loss: 0.2646, Accuracy: 86.49%\n",
      "Epoch [15/30], Step [33/33], Loss: 0.0872, Accuracy: 97.30%\n",
      "Epoch [16/30], Step [33/33], Loss: 0.1917, Accuracy: 94.59%\n",
      "Epoch [17/30], Step [33/33], Loss: 0.3231, Accuracy: 94.59%\n",
      "Epoch [18/30], Step [33/33], Loss: 0.1363, Accuracy: 94.59%\n",
      "Epoch [19/30], Step [33/33], Loss: 0.0327, Accuracy: 100.00%\n",
      "Epoch [20/30], Step [33/33], Loss: 0.0300, Accuracy: 100.00%\n",
      "Epoch [21/30], Step [33/33], Loss: 0.0504, Accuracy: 97.30%\n",
      "Epoch [22/30], Step [33/33], Loss: 0.0767, Accuracy: 97.30%\n",
      "Epoch [23/30], Step [33/33], Loss: 0.0085, Accuracy: 100.00%\n",
      "Epoch [24/30], Step [33/33], Loss: 0.1725, Accuracy: 94.59%\n",
      "Epoch [25/30], Step [33/33], Loss: 0.2020, Accuracy: 94.59%\n",
      "Epoch [26/30], Step [33/33], Loss: 0.0231, Accuracy: 100.00%\n",
      "Epoch [27/30], Step [33/33], Loss: 0.0121, Accuracy: 100.00%\n",
      "Epoch [28/30], Step [33/33], Loss: 0.0431, Accuracy: 97.30%\n",
      "Epoch [29/30], Step [33/33], Loss: 0.0400, Accuracy: 97.30%\n",
      "Epoch [30/30], Step [33/33], Loss: 0.0746, Accuracy: 97.30%\n"
     ]
    }
   ],
   "source": [
    "#training the model\n",
    "total_step = len(train_loader)\n",
    "loss_list = []\n",
    "acc_list = []\n",
    "for epoch in range(num_epochs):\n",
    "    for i, (images, labels) in enumerate(train_loader):\n",
    "        # Forward pass\n",
    "        outputs = model(images)\n",
    "        loss = criterion(outputs, labels)\n",
    "        loss_list.append(loss.item())\n",
    "        # Backprop and optimisation\n",
    "        optimizer.zero_grad()\n",
    "        loss.backward()\n",
    "        optimizer.step()\n",
    "        # Train accuracy\n",
    "        total = labels.size(0)\n",
    "        _, predicted = torch.max(outputs.data, 1)\n",
    "        correct = (predicted == labels).sum().item()\n",
    "        acc_list.append(correct / total)\n",
    "    print('Epoch [{}/{}], Step [{}/{}], Loss: {:.4f}, Accuracy: {:.2f}%'\n",
    "        .format(epoch + 1, num_epochs, i + 1, total_step, loss.item(),\n",
    "        (correct / total) * 100))"
   ]
  },
  {
   "cell_type": "code",
   "execution_count": 11,
   "id": "d8a1ce13",
   "metadata": {},
   "outputs": [],
   "source": [
    "#Saving Model\n",
    "path = r\"/Users/jgold/Documents/GitHub/Artifical-Intelligence-Project/Models/Model1.pt\"\n",
    "\n",
    "torch.save(model.state_dict(), path)"
   ]
  },
  {
   "cell_type": "code",
   "execution_count": 12,
   "id": "abc6ce25",
   "metadata": {},
   "outputs": [
    {
     "name": "stdout",
     "output_type": "stream",
     "text": [
      "Test Accuracy of the model on the 1000 test images: 78.0 %\n",
      "Test Accuracy of the model on the 1000 test images: 81.0 %\n",
      "Test Accuracy of the model on the 1000 test images: 81.0 %\n",
      "Test Accuracy of the model on the 1000 test images: 80.25 %\n",
      "Test Accuracy of the model on the 1000 test images: 81.2 %\n",
      "Test Accuracy of the model on the 1000 test images: 81.83333333333334 %\n",
      "Test Accuracy of the model on the 1000 test images: 80.14285714285714 %\n",
      "Test Accuracy of the model on the 1000 test images: 80.5 %\n",
      "Test Accuracy of the model on the 1000 test images: 80.0 %\n",
      "Test Accuracy of the model on the 1000 test images: 79.80000000000001 %\n",
      "Test Accuracy of the model on the 1000 test images: 79.8887859128823 %\n"
     ]
    }
   ],
   "source": [
    "#testing the model after it has beeen trained\n",
    "model.eval()\n",
    "with torch.no_grad():\n",
    "    correct = 0\n",
    "    total = 0\n",
    "    for images, labels in test_loader:\n",
    "        outputs = model(images)\n",
    "        _, predicted = torch.max(outputs.data, 1)\n",
    "        total += labels.size(0)\n",
    "        correct += (predicted == labels).sum().item()\n",
    "        print('Test Accuracy of the model on the 1000 test images: {} %'\n",
    "          .format((correct / total) * 100))"
   ]
  },
  {
   "cell_type": "code",
   "execution_count": 13,
   "id": "97cb7e81",
   "metadata": {},
   "outputs": [
    {
     "name": "stdout",
     "output_type": "stream",
     "text": [
      "Time to evaluate our data.\n",
      "First will be the training data.\n"
     ]
    },
    {
     "data": {
      "image/png": "[encoded data removed]",
      "text/plain": [
       "<Figure size 432x288 with 2 Axes>"
      ]
     },
     "metadata": {
      "needs_background": "light"
     },
     "output_type": "display_data"
    },
    {
     "name": "stdout",
     "output_type": "stream",
     "text": [
      "              precision    recall  f1-score   support\n",
      "\n",
      "           0       1.00      1.00      1.00       510\n",
      "           1       1.00      1.00      1.00      1060\n",
      "           2       1.00      1.00      1.00       769\n",
      "           3       0.99      1.00      0.99       898\n",
      "\n",
      "    accuracy                           1.00      3237\n",
      "   macro avg       1.00      1.00      1.00      3237\n",
      "weighted avg       1.00      1.00      1.00      3237\n",
      "\n"
     ]
    }
   ],
   "source": [
    "import matplotlib.pyplot as plt\n",
    "import numpy as np\n",
    "from sklearn.metrics import plot_confusion_matrix\n",
    "from sklearn.metrics import confusion_matrix\n",
    "from sklearn.metrics import classification_report\n",
    "import seaborn as sns\n",
    "\n",
    "print(\"Time to evaluate our data.\")\n",
    "print(\"First will be the training data.\")\n",
    "\n",
    "#building Confusion Matrix as well as getting accuracy, predictions and F1 score for train model\n",
    "model.eval()\n",
    "prediction_list = []\n",
    "accurate_list = []\n",
    "with torch.no_grad():\n",
    "    for images, labels in train_loader:\n",
    "        outputs = model(images)\n",
    "        _, predicted = torch.max(model(images), 1)\n",
    "        prediction_list.extend(predicted.detach().cpu().numpy())\n",
    "        accurate_list.extend(labels.detach().cpu().numpy())\n",
    "  \n",
    "  \n",
    "confusion_matrix_data = confusion_matrix(accurate_list, prediction_list)\n",
    "confusionMatrix = sns.heatmap(confusion_matrix_data, annot=True, fmt='g' )\n",
    "confusionMatrix.set_title('Confusion Matrix');\n",
    "confusionMatrix.set_xlabel('Predicted Categories')\n",
    "confusionMatrix.set_ylabel('Actual Categories');\n",
    "confusionMatrix.xaxis.set_ticklabels(['Cloth Mask','N95','No Mask','Surgical Mask'])\n",
    "confusionMatrix.yaxis.set_ticklabels(['Cloth Mask','N95','No Mask','Surgical Mask'])\n",
    "\n",
    "  \n",
    "plt.show()\n",
    "\n",
    "#printing Accuracy, Prediction and F1 score for training model\n",
    "print(classification_report(prediction_list, accurate_list))"
   ]
  },
  {
   "cell_type": "code",
   "execution_count": 14,
   "id": "2e7f1935",
   "metadata": {},
   "outputs": [
    {
     "name": "stdout",
     "output_type": "stream",
     "text": [
      "Now to evaluate the testing data.\n"
     ]
    },
    {
     "data": {
      "image/png": "[encoded data removed]",
      "text/plain": [
       "<Figure size 432x288 with 2 Axes>"
      ]
     },
     "metadata": {
      "needs_background": "light"
     },
     "output_type": "display_data"
    },
    {
     "name": "stdout",
     "output_type": "stream",
     "text": [
      "              precision    recall  f1-score   support\n",
      "\n",
      "           0       0.67      0.66      0.66       179\n",
      "           1       0.80      0.80      0.80       376\n",
      "           2       0.94      0.90      0.92       254\n",
      "           3       0.77      0.80      0.78       270\n",
      "\n",
      "    accuracy                           0.80      1079\n",
      "   macro avg       0.79      0.79      0.79      1079\n",
      "weighted avg       0.80      0.80      0.80      1079\n",
      "\n"
     ]
    }
   ],
   "source": [
    "#building Confusion Matrix as well as getting accuracy, predictions and F1 score for test model\n",
    "\n",
    "print(\"Now to evaluate the testing data.\")\n",
    "model.eval()\n",
    "prediction_list = []\n",
    "accurate_list = []\n",
    "with torch.no_grad():\n",
    "    for images, labels in test_loader:\n",
    "        outputs = model(images)\n",
    "        _, predicted = torch.max(model(images), 1)\n",
    "        prediction_list.extend(predicted.detach().cpu().numpy())\n",
    "        accurate_list.extend(labels.detach().cpu().numpy())\n",
    "  \n",
    "  \n",
    "confusion_matrix_data = confusion_matrix(accurate_list, prediction_list)\n",
    "confusionMatrix = sns.heatmap(confusion_matrix_data, annot=True, fmt='g' )\n",
    "confusionMatrix.set_title('Confusion Matrix');\n",
    "confusionMatrix.set_xlabel('Predicted Categories')\n",
    "confusionMatrix.set_ylabel('Actual Categories');\n",
    "confusionMatrix.xaxis.set_ticklabels(['Cloth Mask','N95','No Mask','Surgical Mask'])\n",
    "confusionMatrix.yaxis.set_ticklabels(['Cloth Mask','N95','No Mask','Surgical Mask'])\n",
    "\n",
    "  \n",
    "plt.show()\n",
    "\n",
    "#printing Accuracy, Prediction and F1 score for testing model\n",
    "print(classification_report(prediction_list, accurate_list))"
   ]
  }
 ],
 "metadata": {
  "kernelspec": {
   "display_name": "Python 3",
   "language": "python",
   "name": "python3"
  },
  "language_info": {
   "codemirror_mode": {
    "name": "ipython",
    "version": 3
   },
   "file_extension": ".py",
   "mimetype": "text/x-python",
   "name": "python",
   "nbconvert_exporter": "python",
   "pygments_lexer": "ipython3",
   "version": "3.8.8"
  }
 },
 "nbformat": 4,
 "nbformat_minor": 5
}
